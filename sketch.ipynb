{
 "cells": [
  {
   "cell_type": "markdown",
   "metadata": {},
   "source": [
    "# mini project 1-live sketch using webcam"
   ]
  },
  {
   "cell_type": "code",
   "execution_count": 1,
   "metadata": {
    "collapsed": true
   },
   "outputs": [],
   "source": [
    "import cv2\n",
    "import numpy as np\n",
    "\n",
    "# function to generate sketch\n",
    "def sketch(image):\n",
    "    #convert image to grayscale\n",
    "    img_gray=cv2.cvtColor(image,cv2.COLOR_BGR2GRAY)\n",
    "    \n",
    "    #clean up image using Gaussian blur\n",
    "    img_gray_blur=cv2.GaussianBlur(img_gray,(5,5),0)\n",
    "    \n",
    "    #exract edges\n",
    "    canny_edges=cv2.Canny(img_gray_blur,10,70)\n",
    "    \n",
    "    #bineries the image\n",
    "    ret,mask=cv2.threshold(canny_edges,70,255,cv2.THRESH_BINARY_INV)\n",
    "    return mask\n",
    "cap=cv2.VideoCapture(0)\n",
    "while True:\n",
    "    ret,frame=cap.read()\n",
    "    cv2.imshow('my live sketch',sketch(frame))\n",
    "    if cv2.waitKey(1) == 13:  #13 is the Enter value on the keyboard\n",
    "        break\n",
    "        \n",
    "#release the camera and close window\n",
    "cap.release()\n",
    "cv2.destroyAllWindows()"
   ]
  },
  {
   "cell_type": "markdown",
   "metadata": {},
   "source": [
    "## mnist :- this  dataset is made up of 1797 8x8 images"
   ]
  },
  {
   "cell_type": "code",
   "execution_count": 1,
   "metadata": {
    "collapsed": false
   },
   "outputs": [
    {
     "data": {
      "text/plain": [
       "<matplotlib.figure.Figure at 0x17930bd0b00>"
      ]
     },
     "metadata": {},
     "output_type": "display_data"
    },
    {
     "data": {
      "image/png": "[encoded data removed]",
      "text/plain": [
       "<matplotlib.figure.Figure at 0x17930d67518>"
      ]
     },
     "metadata": {},
     "output_type": "display_data"
    },
    {
     "name": "stdout",
     "output_type": "stream",
     "text": [
      "[[  0.   0.   3.  13.  11.   7.   0.   0.]\n",
      " [  0.   0.  11.  16.  16.  16.   2.   0.]\n",
      " [  0.   4.  16.   9.   1.  14.   2.   0.]\n",
      " [  0.   4.  16.   0.   0.  16.   2.   0.]\n",
      " [  0.   0.  16.   1.   0.  12.   8.   0.]\n",
      " [  0.   0.  15.   9.   0.  13.   6.   0.]\n",
      " [  0.   0.   9.  14.   9.  14.   1.   0.]\n",
      " [  0.   0.   2.  12.  13.   4.   0.   0.]]\n",
      "predicted [0]\n"
     ]
    }
   ],
   "source": [
    "import matplotlib.pyplot as plt\n",
    "from sklearn.datasets import load_digits\n",
    "from sklearn import svm\n",
    "\n",
    "digits=load_digits()\n",
    "plt.gray()\n",
    "plt.matshow(digits.images[20])  # in o/p it always shows last digits here shows 0 if there will be 16 then o/p is 6\n",
    "plt.show()\n",
    "print(digits.images[20])\n",
    "\n",
    "clf=svm.SVC()\n",
    "\n",
    "#train the model\n",
    "clf.fit(digits.data[:-1],digits.target[:-1])\n",
    "\n",
    "#test the model\n",
    "prediction = clf.predict(digits.data[20:21])\n",
    "\n",
    "print('predicted',prediction)"
   ]
  },
  {
   "cell_type": "code",
   "execution_count": 21,
   "metadata": {
    "collapsed": false
   },
   "outputs": [
    {
     "data": {
      "text/plain": [
       "<matplotlib.figure.Figure at 0x2a8767145f8>"
      ]
     },
     "metadata": {},
     "output_type": "display_data"
    },
    {
     "data": {
      "image/png": "[encoded data removed]",
      "text/plain": [
       "<matplotlib.figure.Figure at 0x2a8767143c8>"
      ]
     },
     "metadata": {},
     "output_type": "display_data"
    },
    {
     "name": "stdout",
     "output_type": "stream",
     "text": [
      "[[  0.   0.   3.  13.  11.   7.   0.   0.]\n",
      " [  0.   0.  11.  16.  16.  16.   2.   0.]\n",
      " [  0.   4.  16.   9.   1.  14.   2.   0.]\n",
      " [  0.   4.  16.   0.   0.  16.   2.   0.]\n",
      " [  0.   0.  16.   1.   0.  12.   8.   0.]\n",
      " [  0.   0.  15.   9.   0.  13.   6.   0.]\n",
      " [  0.   0.   9.  14.   9.  14.   1.   0.]\n",
      " [  0.   0.   2.  12.  13.   4.   0.   0.]]\n",
      "predicted [0]\n"
     ]
    }
   ],
   "source": []
  },
  {
   "cell_type": "code",
   "execution_count": null,
   "metadata": {
    "collapsed": false
   },
   "outputs": [],
   "source": []
  },
  {
   "cell_type": "code",
   "execution_count": null,
   "metadata": {
    "collapsed": true
   },
   "outputs": [],
   "source": []
  }
 ],
 "metadata": {
  "kernelspec": {
   "display_name": "Python 3",
   "language": "python",
   "name": "python3"
  },
  "language_info": {
   "codemirror_mode": {
    "name": "ipython",
    "version": 3
   },
   "file_extension": ".py",
   "mimetype": "text/x-python",
   "name": "python",
   "nbconvert_exporter": "python",
   "pygments_lexer": "ipython3",
   "version": "3.6.0"
  }
 },
 "nbformat": 4,
 "nbformat_minor": 2
}
